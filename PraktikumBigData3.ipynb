{
 "cells": [
  {
   "cell_type": "markdown",
   "id": "755fc00f-c626-4e6c-97aa-1e7dcdcb19bd",
   "metadata": {},
   "source": [
    "# Implementasi MapReduce Sederhana\n",
    "# Praktikum Big Data Minggu 3"
   ]
  },
  {
   "cell_type": "markdown",
   "id": "113861cc-f696-46c2-9595-480909ae9728",
   "metadata": {},
   "source": [
    "### Implementasi sederhana word count"
   ]
  },
  {
   "cell_type": "markdown",
   "id": "4df794a3-1281-4a06-a328-971c3c7e06fe",
   "metadata": {},
   "source": [
    "#### 1. Map Function"
   ]
  },
  {
   "cell_type": "code",
   "execution_count": 16,
   "id": "e98474e8-7d33-4c5d-8a28-7e14a3b05d3d",
   "metadata": {},
   "outputs": [
    {
     "name": "stdout",
     "output_type": "stream",
     "text": [
      "[('Haloo!', 1), ('Namaku', 1), ('Abi.', 1), ('Aku', 1), ('mempunyai', 1), ('seekor', 1), ('ikan', 1), ('bernama', 1), ('Tom.', 1), ('Tom', 1), ('merupakan', 1), ('seekor', 1), ('ikan', 1), ('cupang', 1), ('berwarna', 1), ('merah.', 1), ('Aku', 1), ('membeli', 1), ('ikan', 1), ('cupang', 1), ('berwarna', 1), ('merah', 1), ('karena', 1), ('warna', 1), ('merah', 1), ('berarti', 1), ('berani.', 1), ('Aku', 1), ('memberi', 1), ('nama', 1), ('Tom', 1), ('karena', 1), ('terinspirasi', 1), ('dari', 1), ('tokoh', 1), ('kartun', 1), ('Tom', 1), ('and', 1), ('Jerry.', 1), ('Aku', 1), ('berharap', 1), ('ikan', 1), ('cupang', 1), ('milikku', 1), ('tidak', 1), ('dimakan', 1), ('oleh', 1), ('kucing', 1), ('karena', 1), ('aku', 1), ('memberi', 1), ('nama', 1), ('Tom.', 1)]\n"
     ]
    }
   ],
   "source": [
    "with open('C:/Users/user/Documents/Big Data/debigdata3.txt', 'r') as file:\n",
    "    text = file.readlines()\n",
    "\n",
    "def map_function(text):\n",
    "    for word in text.split():\n",
    "        yield (word, 1)\n",
    "mapped_results = []\n",
    "for line in text:\n",
    "    mapped_results.extend(list(map_function(line)))\n",
    "print(mapped_results)"
   ]
  },
  {
   "cell_type": "markdown",
   "id": "6d01a3fc-3096-408c-ad70-398828cffb7c",
   "metadata": {},
   "source": [
    "#### 2. Reduce Function"
   ]
  },
  {
   "cell_type": "code",
   "execution_count": 26,
   "id": "014a4c32-82ae-43f3-9978-88a206b1bb3b",
   "metadata": {},
   "outputs": [
    {
     "name": "stdout",
     "output_type": "stream",
     "text": [
      "Haloo! : 1\n",
      "Namaku : 1\n",
      "Abi : 1\n",
      ". : 6\n",
      "Aku : 4\n",
      "mempunyai : 1\n",
      "seekor : 2\n",
      "ikan : 4\n",
      "bernama : 1\n",
      "Tom : 5\n",
      "merupakan : 1\n",
      "cupang : 3\n",
      "berwarna : 2\n",
      "merah : 3\n",
      "membeli : 1\n",
      "karena : 3\n",
      "warna : 1\n",
      "berarti : 1\n",
      "berani : 1\n",
      "memberi : 2\n",
      "nama : 2\n",
      "terinspirasi : 1\n",
      "dari : 1\n",
      "tokoh : 1\n",
      "kartun : 1\n",
      "and : 1\n",
      "Jerry : 1\n",
      "berharap : 1\n",
      "milikku : 1\n",
      "tidak : 1\n",
      "dimakan : 1\n",
      "oleh : 1\n",
      "kucing : 1\n",
      "aku : 1\n"
     ]
    }
   ],
   "source": [
    "from collections import defaultdict\n",
    "\n",
    "def map_function(text):\n",
    "    for word in text.split():\n",
    "        yield (word, 1)\n",
    "\n",
    "def reduce_function(pairs):\n",
    "    result = defaultdict(int)\n",
    "    for word, count in pairs:\n",
    "        result[word] += count\n",
    "    for word, count in result.items():\n",
    "        yield (word, count)\n",
    "\n",
    "def word_count(pairs):\n",
    "    all_words = []\n",
    "    for line in pairs:\n",
    "        all_words.extend(map_function(line))\n",
    "    \n",
    "    groups = {}\n",
    "    for word, count in all_words:\n",
    "        groups.setdefault(word, []).append((word, count))\n",
    "    \n",
    "    for group in groups.values():\n",
    "        yield from reduce_function(group)\n",
    "\n",
    "with open('C:/Users/user/Documents/Big Data/debigdata3.txt', 'r') as file:\n",
    "    pairs = file.readlines()\n",
    "\n",
    "for word, count in word_count(pairs):\n",
    "    print(f\"{word} : {count}\")\n"
   ]
  }
 ],
 "metadata": {
  "kernelspec": {
   "display_name": "Python 3 (ipykernel)",
   "language": "python",
   "name": "python3"
  },
  "language_info": {
   "codemirror_mode": {
    "name": "ipython",
    "version": 3
   },
   "file_extension": ".py",
   "mimetype": "text/x-python",
   "name": "python",
   "nbconvert_exporter": "python",
   "pygments_lexer": "ipython3",
   "version": "3.11.9"
  }
 },
 "nbformat": 4,
 "nbformat_minor": 5
}
